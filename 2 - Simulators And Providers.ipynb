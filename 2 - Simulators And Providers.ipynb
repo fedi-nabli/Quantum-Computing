{
 "cells": [
  {
   "cell_type": "code",
   "execution_count": 1,
   "id": "bca607ed",
   "metadata": {},
   "outputs": [],
   "source": [
    "from qiskit import *"
   ]
  },
  {
   "cell_type": "code",
   "execution_count": 2,
   "id": "32b4a97e",
   "metadata": {},
   "outputs": [],
   "source": [
    "IBMQ.save_account(open(\"ibmapi.txt\",\"r\").read())"
   ]
  },
  {
   "cell_type": "code",
   "execution_count": 3,
   "id": "803c58ff",
   "metadata": {},
   "outputs": [
    {
     "data": {
      "text/plain": [
       "<AccountProvider for IBMQ(hub='ibm-q', group='open', project='main')>"
      ]
     },
     "execution_count": 3,
     "metadata": {},
     "output_type": "execute_result"
    }
   ],
   "source": [
    "IBMQ.load_account()"
   ]
  },
  {
   "cell_type": "code",
   "execution_count": 4,
   "id": "7d4888de",
   "metadata": {},
   "outputs": [
    {
     "name": "stdout",
     "output_type": "stream",
     "text": [
      "ibmq_qasm_simulator : 1 & simulated qubits \n",
      "ibmq_armonk : 9 & 1 qubits \n",
      "ibmq_lima : 32 & 5 qubits \n",
      "ibmq_belem : 37 & 5 qubits \n",
      "ibmq_quito : 77 & 5 qubits \n",
      "simulator_statevector : 1 & simulated qubits \n",
      "simulator_mps : 1 & simulated qubits \n",
      "simulator_extended_stabilizer : 1 & simulated qubits \n",
      "simulator_stabilizer : 1 & simulated qubits \n",
      "ibmq_manila : 236 & 5 qubits \n",
      "ibm_nairobi : 6 & 7 qubits \n",
      "ibm_oslo : 23 & 7 qubits \n"
     ]
    }
   ],
   "source": [
    "provider = IBMQ.get_provider(\"ibm-q\")\n",
    "\n",
    "for backend in provider.backends():\n",
    "    try:\n",
    "        qubit_count = len(backend.properties().qubits)\n",
    "    except:\n",
    "        qubit_count = \"simulated\"\n",
    "    print(f\"{backend.name()} : {backend.status().pending_jobs} & {qubit_count} qubits \")"
   ]
  },
  {
   "cell_type": "code",
   "execution_count": 5,
   "id": "a62ace5a",
   "metadata": {},
   "outputs": [
    {
     "data": {
      "text/plain": [
       "[AerSimulator('aer_simulator'),\n",
       " AerSimulator('aer_simulator_statevector'),\n",
       " AerSimulator('aer_simulator_density_matrix'),\n",
       " AerSimulator('aer_simulator_stabilizer'),\n",
       " AerSimulator('aer_simulator_matrix_product_state'),\n",
       " AerSimulator('aer_simulator_extended_stabilizer'),\n",
       " AerSimulator('aer_simulator_unitary'),\n",
       " AerSimulator('aer_simulator_superop'),\n",
       " QasmSimulator('qasm_simulator'),\n",
       " StatevectorSimulator('statevector_simulator'),\n",
       " UnitarySimulator('unitary_simulator'),\n",
       " PulseSimulator('pulse_simulator')]"
      ]
     },
     "execution_count": 5,
     "metadata": {},
     "output_type": "execute_result"
    }
   ],
   "source": [
    "Aer.backends()"
   ]
  }
 ],
 "metadata": {
  "kernelspec": {
   "display_name": "Python 3 (ipykernel)",
   "language": "python",
   "name": "python3"
  },
  "language_info": {
   "codemirror_mode": {
    "name": "ipython",
    "version": 3
   },
   "file_extension": ".py",
   "mimetype": "text/x-python",
   "name": "python",
   "nbconvert_exporter": "python",
   "pygments_lexer": "ipython3",
   "version": "3.9.7"
  }
 },
 "nbformat": 4,
 "nbformat_minor": 5
}
